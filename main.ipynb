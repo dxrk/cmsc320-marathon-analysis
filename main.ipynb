{
 "cells": [
  {
   "cell_type": "markdown",
   "metadata": {},
   "source": [
    "Checkpoint 2"
   ]
  },
  {
   "cell_type": "code",
   "execution_count": 1,
   "metadata": {},
   "outputs": [],
   "source": [
    "# Import pandas\n",
    "import pandas as pd\n",
    "\n",
    "pd.set_option('display.max_rows', None)\n",
    "pd.set_option('display.max_columns', None)"
   ]
  },
  {
   "cell_type": "code",
   "execution_count": null,
   "metadata": {},
   "outputs": [],
   "source": [
    "# Import data from data/results-[year] from 1999 to 2019\n",
    "START_YEAR = 1999\n",
    "END_YEAR = 2019\n",
    "\n",
    "# Create a list of dataframes\n",
    "dfs = []\n",
    "for year in range(START_YEAR, END_YEAR + 1):\n",
    "    df = pd.read_csv(f'./data/results-{year}.csv')\n",
    "    df['year'] = year\n",
    "    dfs.append(df)\n",
    "\n",
    "# Concatenate all dataframes\n",
    "results = pd.concat(dfs, ignore_index=True)\n",
    "\n",
    "# Drop rows with missing values\n",
    "results = results.dropna()"
   ]
  }
 ],
 "metadata": {
  "kernelspec": {
   "display_name": ".venv",
   "language": "python",
   "name": "python3"
  },
  "language_info": {
   "codemirror_mode": {
    "name": "ipython",
    "version": 3
   },
   "file_extension": ".py",
   "mimetype": "text/x-python",
   "name": "python",
   "nbconvert_exporter": "python",
   "pygments_lexer": "ipython3",
   "version": "3.13.1"
  }
 },
 "nbformat": 4,
 "nbformat_minor": 2
}
